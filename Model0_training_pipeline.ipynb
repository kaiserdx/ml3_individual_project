{
 "cells": [
  {
   "cell_type": "markdown",
   "metadata": {
    "id": "zrcc1TUXSzzF"
   },
   "source": [
    "\n"
   ]
  },
  {
   "cell_type": "code",
   "execution_count": 1,
   "metadata": {
    "ExecuteTime": {
     "end_time": "2023-06-12T10:39:25.730431Z",
     "start_time": "2023-06-12T10:39:20.459512Z"
    },
    "id": "9sq7HKYBo31x"
   },
   "outputs": [],
   "source": [
    "import torch\n",
    "import os\n",
    "import random\n",
    "import torchvision\n",
    "import pandas as pd\n",
    "import torch.nn as nn\n",
    "import numpy as np\n",
    "from tqdm.notebook import tqdm, trange\n",
    "from torchvision import transforms, datasets\n",
    "from shutil import copyfile, move\n",
    "from torch.utils.tensorboard import SummaryWriter\n",
    "from barbar import Bar\n",
    "from torchsummary import summary\n",
    "from ignite.metrics import Accuracy\n",
    "from sklearn.metrics import confusion_matrix, ConfusionMatrixDisplay, classification_report, roc_auc_score"
   ]
  },
  {
   "cell_type": "code",
   "execution_count": 2,
   "metadata": {
    "ExecuteTime": {
     "end_time": "2023-06-12T09:49:58.402004Z",
     "start_time": "2023-06-12T09:49:58.396194Z"
    },
    "id": "8sdxjNlv7iWY"
   },
   "outputs": [],
   "source": [
    "class EarlyStopping:\n",
    "    \"\"\"Early stops the training if validation loss doesn't improve after a given patience.\"\"\"\n",
    "    def __init__(self, patience=7, verbose=False, delta=0, path='checkpoint.pt', trace_func=print):\n",
    "        \"\"\"\n",
    "        Args:\n",
    "            patience (int): How long to wait after last time validation loss improved.\n",
    "                            Default: 7\n",
    "            verbose (bool): If True, prints a message for each validation loss improvement. \n",
    "                            Default: False\n",
    "            delta (float): Minimum change in the monitored quantity to qualify as an improvement.\n",
    "                            Default: 0\n",
    "            path (str): Path for the checkpoint to be saved to.\n",
    "                            Default: 'checkpoint.pt'\n",
    "            trace_func (function): trace print function.\n",
    "                            Default: print            \n",
    "        \"\"\"\n",
    "        self.patience = patience\n",
    "        self.verbose = verbose\n",
    "        self.counter = 0\n",
    "        self.best_score = None\n",
    "        self.early_stop = False\n",
    "        self.val_loss_min = np.Inf\n",
    "        self.delta = delta\n",
    "        self.path = path\n",
    "        self.trace_func = trace_func\n",
    "    def __call__(self, val_loss, model):\n",
    "\n",
    "        score = -val_loss\n",
    "\n",
    "        if self.best_score is None:\n",
    "            self.best_score = score\n",
    "            self.save_checkpoint(val_loss, model)\n",
    "        elif score < self.best_score + self.delta:\n",
    "            self.counter += 1\n",
    "            self.trace_func(f'EarlyStopping counter: {self.counter} out of {self.patience}')\n",
    "            if self.counter >= self.patience:\n",
    "                self.early_stop = True\n",
    "        else:\n",
    "            self.best_score = score\n",
    "            self.save_checkpoint(val_loss, model)\n",
    "            self.counter = 0\n",
    "\n",
    "    def save_checkpoint(self, val_loss, model):\n",
    "        '''Saves model when monitored metric decrease.'''\n",
    "        if self.verbose:\n",
    "            self.trace_func(f'Monitored metric has improved ({self.val_loss_min:.6f} --> {val_loss:.6f}).  Saving model ...')\n",
    "        torch.save(model.state_dict(), f'./content/skinmodel50.pt') \n",
    "        self.val_loss_min = val_loss"
   ]
  },
  {
   "cell_type": "code",
   "execution_count": 3,
   "metadata": {
    "ExecuteTime": {
     "end_time": "2023-06-12T09:49:58.407669Z",
     "start_time": "2023-06-12T09:49:58.403005Z"
    },
    "id": "su4OIQ2CpFXB"
   },
   "outputs": [],
   "source": [
    "def split_data(source, training, validation, split_size):    \n",
    "    files = []\n",
    "    for filename in os.listdir(source):\n",
    "        file = source + filename\n",
    "        if os.path.getsize(file) > 0:\n",
    "            files.append(filename)\n",
    "        else:\n",
    "            print(filename + \" is zero length, so ignoring.\")\n",
    "\n",
    "    training_length = int(len(files) * split_size)\n",
    "    validation_length = int(len(files) - training_length)\n",
    "    shuffled_set = random.sample(files, len(files))\n",
    "    training_set = shuffled_set[0:training_length]\n",
    "    validation_set = shuffled_set[:validation_length]\n",
    "\n",
    "    for filename in training_set:\n",
    "        this_file = source + filename\n",
    "        destination = training + filename\n",
    "        copyfile(this_file, destination)\n",
    "\n",
    "    for filename in validation_set:\n",
    "        this_file = source + filename\n",
    "        destination = validation + filename\n",
    "        copyfile(this_file, destination)"
   ]
  },
  {
   "cell_type": "code",
   "execution_count": 5,
   "metadata": {
    "ExecuteTime": {
     "end_time": "2023-06-11T03:57:35.733564Z",
     "start_time": "2023-06-11T03:57:35.731584Z"
    },
    "colab": {
     "base_uri": "https://localhost:8080/"
    },
    "id": "WdrQekgPpFc1",
    "outputId": "5805603a-e8a7-40cd-b843-10cc43e98cb4"
   },
   "outputs": [],
   "source": [
    "#!unzip /content/drive/MyDrive/Skin.zip -d /content"
   ]
  },
  {
   "cell_type": "code",
   "execution_count": 6,
   "metadata": {
    "ExecuteTime": {
     "end_time": "2023-06-11T03:57:35.754291Z",
     "start_time": "2023-06-11T03:57:35.734565Z"
    },
    "id": "lTDB1CVGpFZ5"
   },
   "outputs": [
    {
     "ename": "FileExistsError",
     "evalue": "[WinError 183] Cannot create a file when that file already exists: './content/orig/'",
     "output_type": "error",
     "traceback": [
      "\u001b[1;31m---------------------------------------------------------------------------\u001b[0m",
      "\u001b[1;31mFileExistsError\u001b[0m                           Traceback (most recent call last)",
      "Cell \u001b[1;32mIn[6], line 1\u001b[0m\n\u001b[1;32m----> 1\u001b[0m os\u001b[38;5;241m.\u001b[39mmkdir(\u001b[38;5;124m'\u001b[39m\u001b[38;5;124m./content/orig/\u001b[39m\u001b[38;5;124m'\u001b[39m)\n\u001b[0;32m      2\u001b[0m os\u001b[38;5;241m.\u001b[39mmkdir(\u001b[38;5;124m'\u001b[39m\u001b[38;5;124m./content/orig/0.MEL/\u001b[39m\u001b[38;5;124m'\u001b[39m)\n\u001b[0;32m      3\u001b[0m os\u001b[38;5;241m.\u001b[39mmkdir(\u001b[38;5;124m'\u001b[39m\u001b[38;5;124m./content/orig/1.NV/\u001b[39m\u001b[38;5;124m'\u001b[39m)\n",
      "\u001b[1;31mFileExistsError\u001b[0m: [WinError 183] Cannot create a file when that file already exists: './content/orig/'"
     ]
    }
   ],
   "source": [
    "os.mkdir('./content/orig/')\n",
    "os.mkdir('./content/orig/0.MEL/')\n",
    "os.mkdir('./content/orig/1.NV/')\n",
    "os.mkdir('./content/orig/2.BCC/')\n",
    "os.mkdir('./content/orig/3.AKIEC/')\n",
    "os.mkdir('./content/orig/4.BKL/')\n",
    "os.mkdir('./content/orig/5.DF/')\n",
    "os.mkdir('./content/orig/6.VASC/')\n",
    "\n",
    "os.mkdir('./content/skin/')\n",
    "os.mkdir('./content/skin/training/')\n",
    "os.mkdir('./content/skin/validation/')\n",
    "os.mkdir('./content/skin/training/0.MEL/')\n",
    "os.mkdir('./content/skin/training/1.NV/')\n",
    "os.mkdir('./content/skin/training/2.BCC/')\n",
    "os.mkdir('./content/skin/training/3.AKIEC/')\n",
    "os.mkdir('./content/skin/training/4.BKL/')\n",
    "os.mkdir('./content/skin/training/5.DF/')\n",
    "os.mkdir('./content/skin/training/6.VASC/')\n",
    "os.mkdir('./content/skin/validation/0.MEL/')\n",
    "os.mkdir('./content/skin/validation/1.NV/')\n",
    "os.mkdir('./content/skin/validation/2.BCC/')\n",
    "os.mkdir('./content/skin/validation/3.AKIEC/')\n",
    "os.mkdir('./content/skin/validation/4.BKL/')\n",
    "os.mkdir('./content/skin/validation/5.DF/')\n",
    "os.mkdir('./content/skin/validation/6.VASC/')"
   ]
  },
  {
   "cell_type": "code",
   "execution_count": 4,
   "metadata": {
    "ExecuteTime": {
     "end_time": "2023-06-12T09:49:58.415856Z",
     "start_time": "2023-06-12T09:49:58.413468Z"
    },
    "id": "ywLviWRAzvMJ"
   },
   "outputs": [],
   "source": [
    "orig_all = './data/HAM10000/'\n",
    "source_MEL = './content/orig/0.MEL/'\n",
    "source_NV = './content/orig/1.NV/'\n",
    "source_BCC = './content/orig/2.BCC/'\n",
    "source_AKIEC = './content/orig/3.AKIEC/'\n",
    "source_BKL = './content/orig/4.BKL/'\n",
    "source_DF = './content/orig/5.DF/'\n",
    "source_VASC = './content/orig/6.VASC/'"
   ]
  },
  {
   "cell_type": "code",
   "execution_count": 5,
   "metadata": {
    "ExecuteTime": {
     "end_time": "2023-06-12T09:49:58.419702Z",
     "start_time": "2023-06-12T09:49:58.416857Z"
    }
   },
   "outputs": [],
   "source": [
    "\n",
    "training_MEL = './content/skin/training/0.MEL/'\n",
    "training_NV = './content/skin/training/1.NV/'\n",
    "training_BCC = './content/skin/training/2.BCC/'\n",
    "training_AKIEC = './content/skin/training/3.AKIEC/'\n",
    "training_BKL = './content/skin/training/4.BKL/'\n",
    "training_DF = './content/skin/training/5.DF/'\n",
    "training_VASC = './content/skin/training/6.VASC/'\n",
    "validation_MEL = './content/skin/validation/0.MEL/'\n",
    "validation_NV = './content/skin/validation/1.NV/'\n",
    "validation_BCC = './content/skin/validation/2.BCC/'\n",
    "validation_AKIEC = './content/skin/validation/3.AKIEC/'\n",
    "validation_BKL = './content/skin/validation/4.BKL/'\n",
    "validation_DF = './content/skin/validation/5.DF/'\n",
    "validation_VASC = './content/skin/validation/6.VASC/'"
   ]
  },
  {
   "cell_type": "code",
   "execution_count": 8,
   "metadata": {
    "ExecuteTime": {
     "end_time": "2023-06-11T03:57:47.670397Z",
     "start_time": "2023-06-11T03:57:47.656258Z"
    },
    "id": "peei-Pn3xf71"
   },
   "outputs": [],
   "source": [
    "data = pd.read_csv(r'./HAM10000_metadata.csv')"
   ]
  },
  {
   "cell_type": "code",
   "execution_count": 18,
   "metadata": {
    "ExecuteTime": {
     "end_time": "2023-06-11T03:57:50.723738Z",
     "start_time": "2023-06-11T03:57:50.720463Z"
    },
    "colab": {
     "base_uri": "https://localhost:8080/"
    },
    "id": "CaSKq1zZgdEL",
    "outputId": "b6ac29ce-77d5-4503-e8f5-65b315728b45"
   },
   "outputs": [
    {
     "data": {
      "text/plain": [
       "array(['bkl', 'nv', 'df', 'mel', 'vasc', 'bcc', 'akiec'], dtype=object)"
      ]
     },
     "execution_count": 18,
     "metadata": {},
     "output_type": "execute_result"
    }
   ],
   "source": [
    "pd.unique(data['dx'])"
   ]
  },
  {
   "cell_type": "code",
   "execution_count": 21,
   "metadata": {
    "ExecuteTime": {
     "end_time": "2023-06-11T03:58:31.074469Z",
     "start_time": "2023-06-11T03:58:23.713419Z"
    },
    "id": "qi0fOJfJzUDq"
   },
   "outputs": [],
   "source": [
    "for index, image in enumerate(image_names):\n",
    "    image = image + '.jpg'\n",
    "    if diagnosis[index] == 'mel':\n",
    "        copyfile(os.path.join(orig_all, image), os.path.join(source_MEL, image))\n",
    "    elif diagnosis[index] == 'nv':\n",
    "        copyfile(os.path.join(orig_all, image), os.path.join(source_NV, image))\n",
    "    elif diagnosis[index] == 'bcc': \n",
    "        copyfile(os.path.join(orig_all, image), os.path.join(source_BCC, image))\n",
    "    elif diagnosis[index] == 'akiec': \n",
    "        copyfile(os.path.join(orig_all, image), os.path.join(source_AKIEC, image))\n",
    "    elif diagnosis[index] == 'bkl':\n",
    "        copyfile(os.path.join(orig_all, image), os.path.join(source_BKL, image))\n",
    "    elif diagnosis[index] == 'df':  \n",
    "        copyfile(os.path.join(orig_all, image), os.path.join(source_DF, image))\n",
    "    elif diagnosis[index] == 'vasc': \n",
    "        copyfile(os.path.join(orig_all, image), os.path.join(source_VASC, image))            "
   ]
  },
  {
   "cell_type": "code",
   "execution_count": 23,
   "metadata": {
    "ExecuteTime": {
     "end_time": "2023-06-11T03:59:15.938452Z",
     "start_time": "2023-06-11T03:58:53.600761Z"
    },
    "id": "S_zFUmHqpFUI"
   },
   "outputs": [],
   "source": [
    "split_size = 0.8\n",
    "split_data(source_MEL, training_MEL, validation_MEL, split_size)\n",
    "split_data(source_NV, training_NV, validation_NV, split_size)\n",
    "split_data(source_BCC, training_BCC, validation_BCC, split_size)\n",
    "split_data(source_AKIEC, training_AKIEC, validation_AKIEC, split_size)\n",
    "split_data(source_BKL, training_BKL, validation_BKL, split_size)\n",
    "split_data(source_DF, training_DF, validation_DF, split_size)\n",
    "split_data(source_VASC, training_VASC, validation_VASC, split_size)"
   ]
  },
  {
   "cell_type": "code",
   "execution_count": 2,
   "metadata": {
    "ExecuteTime": {
     "end_time": "2023-06-12T10:39:25.738650Z",
     "start_time": "2023-06-12T10:39:25.736487Z"
    },
    "id": "gVZAs_EiSzzS"
   },
   "outputs": [],
   "source": [
    "traindir = r'./content/skin/training/'\n",
    "valdir = r'./content/skin/validation/'"
   ]
  },
  {
   "cell_type": "code",
   "execution_count": 10,
   "metadata": {
    "ExecuteTime": {
     "end_time": "2023-06-12T09:58:39.824317Z",
     "start_time": "2023-06-12T09:58:39.821656Z"
    }
   },
   "outputs": [],
   "source": [
    "#traindir = './data/model/training/'\n",
    "#valdir = './data/model/validation/'\n",
    "#testdir = './data/model/test/'"
   ]
  },
  {
   "cell_type": "code",
   "execution_count": 3,
   "metadata": {
    "ExecuteTime": {
     "end_time": "2023-06-12T10:39:28.040551Z",
     "start_time": "2023-06-12T10:39:28.000539Z"
    },
    "id": "zxinrQSDpFLS"
   },
   "outputs": [],
   "source": [
    "train_transforms = transforms.Compose([\n",
    "    transforms.Resize((224, 280)),\n",
    "    transforms.CenterCrop((224, 224)),\n",
    "    transforms.RandomHorizontalFlip(p=0.5),\n",
    "    transforms.RandomApply(transforms=[transforms.RandomRotation(degrees=(-180, 180))], p=0.99),\n",
    "    transforms.ToTensor(),\n",
    "    transforms.Normalize(mean=[0.485, 0.456, 0.406], std=[0.229, 0.224, 0.225])\n",
    "    ])\n",
    "\n",
    "val_transforms = transforms.Compose([\n",
    "    transforms.Resize((224, 280)),\n",
    "    torchvision.transforms.CenterCrop((224, 224)),\n",
    "    transforms.ToTensor(),\n",
    "    transforms.Normalize(mean=[0.485, 0.456, 0.406], std=[0.229, 0.224, 0.225])\n",
    "    ])\n",
    "\n",
    "train_dataset = datasets.ImageFolder(\n",
    "    traindir, transform=train_transforms)\n",
    "\n",
    "val_dataset = datasets.ImageFolder(\n",
    "    valdir, transform=val_transforms)"
   ]
  },
  {
   "cell_type": "code",
   "execution_count": 4,
   "metadata": {
    "ExecuteTime": {
     "end_time": "2023-06-12T10:39:28.395795Z",
     "start_time": "2023-06-12T10:39:28.393324Z"
    },
    "id": "KlSHFf5LpFFH"
   },
   "outputs": [],
   "source": [
    "train_loader = torch.utils.data.DataLoader(\n",
    "    train_dataset, batch_size=64, shuffle=True,\n",
    "    pin_memory=False, drop_last=False)\n",
    "\n",
    "val_loader = torch.utils.data.DataLoader(\n",
    "    val_dataset, batch_size=64, shuffle=True,\n",
    "    pin_memory=False, drop_last=False)"
   ]
  },
  {
   "cell_type": "code",
   "execution_count": 5,
   "metadata": {
    "ExecuteTime": {
     "end_time": "2023-06-12T10:39:28.992250Z",
     "start_time": "2023-06-12T10:39:28.988026Z"
    }
   },
   "outputs": [
    {
     "name": "stdout",
     "output_type": "stream",
     "text": [
      "Weights of the classes [1.7380176826430898, 0.197509320218926, 3.2634338138925294, 4.680451127819549, 1.467871880526626, 14.61839530332681, 10.889212827988338]\n"
     ]
    }
   ],
   "source": [
    "class_weights = [1.7380176826430898, 0.197509320218926, 3.2634338138925294,\n",
    "4.680451127819549, 1.467871880526626, 14.61839530332681, 10.889212827988338] \n",
    "class_weights_tensor = torch.Tensor(class_weights)\n",
    "print(f\"Weights of the classes {class_weights}\")"
   ]
  },
  {
   "cell_type": "code",
   "execution_count": 6,
   "metadata": {
    "ExecuteTime": {
     "end_time": "2023-06-12T10:39:30.147977Z",
     "start_time": "2023-06-12T10:39:30.145043Z"
    },
    "colab": {
     "base_uri": "https://localhost:8080/"
    },
    "id": "VfE6jd4UpFCL",
    "outputId": "a7cbea6e-2df0-46fd-fb57-03e30abaf124"
   },
   "outputs": [
    {
     "name": "stdout",
     "output_type": "stream",
     "text": [
      "{'0.MEL': 0, '1.NV': 1, '2.BCC': 2, '3.AKIEC': 3, '4.BKL': 4, '5.DF': 5, '6.VASC': 6}\n",
      "{'0.MEL': 0, '1.NV': 1, '2.BCC': 2, '3.AKIEC': 3, '4.BKL': 4, '5.DF': 5, '6.VASC': 6}\n"
     ]
    }
   ],
   "source": [
    "print(val_dataset.class_to_idx)\n",
    "print(train_dataset.class_to_idx)"
   ]
  },
  {
   "cell_type": "code",
   "execution_count": 8,
   "metadata": {
    "ExecuteTime": {
     "end_time": "2023-06-12T10:39:46.804130Z",
     "start_time": "2023-06-12T10:39:46.791163Z"
    }
   },
   "outputs": [
    {
     "data": {
      "text/plain": [
       "'cuda'"
      ]
     },
     "execution_count": 8,
     "metadata": {},
     "output_type": "execute_result"
    }
   ],
   "source": [
    "device = 'cuda' if torch.cuda.is_available() else 'cpu'\n",
    "device"
   ]
  },
  {
   "cell_type": "code",
   "execution_count": 9,
   "metadata": {
    "ExecuteTime": {
     "end_time": "2023-06-12T10:39:47.432052Z",
     "start_time": "2023-06-12T10:39:47.062945Z"
    },
    "colab": {
     "base_uri": "https://localhost:8080/",
     "height": 83,
     "referenced_widgets": [
      "581a27dd91bc472aa20bdbb2fbe794fe",
      "7cb55a1237a14f27ab76d29213929c6b",
      "bfd31272c80a423689c64c1c2e188e5f",
      "2c91fd89d7094f8ea80eab7135278b66",
      "67a4bc927924426986a014b522a2d3ac",
      "1acf94a172b34beb97719742f7a340ab",
      "518ad6c229e24a889f18f5dc571b49a1",
      "cf56e07ca31e4aaead598e4c76ed59c0"
     ]
    },
    "id": "pCMQWo1dpE_M",
    "outputId": "8856118e-5cc1-4b6a-efc3-9bce1d2439f0"
   },
   "outputs": [],
   "source": [
    "model = torchvision.models.resnet50(pretrained=True).to(device)\n",
    "\n",
    "model.fc = nn.Linear(2048, 7).to(device)\n",
    "\n",
    "criterion = nn.CrossEntropyLoss()#weight=class_weights_tensor.to(device))\n",
    "\n",
    "optimizer = torch.optim.Adam(model.parameters(), weight_decay=0.0001)\n",
    "\n",
    "writer = SummaryWriter(log_dir='./content/', filename_suffix=\"skin50\")"
   ]
  },
  {
   "cell_type": "code",
   "execution_count": 19,
   "metadata": {
    "ExecuteTime": {
     "end_time": "2023-06-12T11:52:27.754518Z",
     "start_time": "2023-06-12T11:52:27.670232Z"
    }
   },
   "outputs": [],
   "source": [
    "model = torch.load('./model_150e_tv.pth')"
   ]
  },
  {
   "cell_type": "code",
   "execution_count": 22,
   "metadata": {
    "ExecuteTime": {
     "end_time": "2023-06-12T09:21:54.866688Z",
     "start_time": "2023-06-12T09:21:54.864381Z"
    }
   },
   "outputs": [],
   "source": [
    "#model.load_state_dict(torch.load('./weights/lesion_classifier_250e_ttv.pt'))"
   ]
  },
  {
   "cell_type": "code",
   "execution_count": 16,
   "metadata": {
    "ExecuteTime": {
     "end_time": "2023-06-12T11:51:56.569329Z",
     "start_time": "2023-06-12T11:51:56.566822Z"
    }
   },
   "outputs": [],
   "source": [
    "# Sets the early stopping point, if the Loss function plateaus, the model stops training and saves the last set of weights. \n",
    "#early_stopping = EarlyStopping(patience=50, verbose=True)\n",
    "\n",
    "# Saves the accuracy over the course of the training\n",
    "train_accuracy_list = []\n",
    "val_accuracy_list = []\n",
    "\n",
    "# Saves the loss values over the course of the training\n",
    "train_loss_list = []\n",
    "val_loss_list = []"
   ]
  },
  {
   "cell_type": "code",
   "execution_count": 20,
   "metadata": {
    "ExecuteTime": {
     "end_time": "2023-06-12T11:52:31.512247Z",
     "start_time": "2023-06-12T11:52:31.510156Z"
    }
   },
   "outputs": [],
   "source": [
    "epochs = 50"
   ]
  },
  {
   "cell_type": "code",
   "execution_count": null,
   "metadata": {
    "ExecuteTime": {
     "start_time": "2023-06-12T11:52:31.972Z"
    },
    "colab": {
     "base_uri": "https://localhost:8080/",
     "height": 1000
    },
    "id": "n3of0fhypE8O",
    "outputId": "94a44f1b-92b2-46f7-b60e-2f7fad958193",
    "scrolled": true
   },
   "outputs": [
    {
     "name": "stdout",
     "output_type": "stream",
     "text": [
      "Epoch 1\n",
      "5973/5973: [===============================>] - ETA 0.6ss\n",
      "Train Accuracy: 0.9712037502092751\n",
      "Val Accuracy: 0.9819639278557114\n",
      "Training Loss: 0.0849\n",
      "Validation Loss: 0.0518\n",
      "Epoch 2\n",
      "5973/5973: [===============================>] - ETA 0.7ss\n",
      "Train Accuracy: 0.974049891176963\n",
      "Val Accuracy: 0.9826319305277221\n",
      "Training Loss: 0.0807\n",
      "Validation Loss: 0.0534\n",
      "Epoch 3\n",
      "5973/5973: [===============================>] - ETA 0.7ss\n",
      "Train Accuracy: 0.9728779507785033\n",
      "Val Accuracy: 0.9839679358717435\n",
      "Training Loss: 0.0815\n",
      "Validation Loss: 0.0540\n",
      "Epoch 4\n",
      "5973/5973: [===============================>] - ETA 0.7ss\n",
      "Train Accuracy: 0.9713711702661979\n",
      "Val Accuracy: 0.9819639278557114\n",
      "Training Loss: 0.0865\n",
      "Validation Loss: 0.0566\n",
      "Epoch 5\n",
      "5973/5973: [===============================>] - ETA 0.7ss\n",
      "Train Accuracy: 0.9735476310061946\n",
      "Val Accuracy: 0.9819639278557114\n",
      "Training Loss: 0.0803\n",
      "Validation Loss: 0.0576\n",
      "Epoch 6\n",
      " 512/5973: [==>.............................] - ETA 55.5s"
     ]
    }
   ],
   "source": [
    "for epoch in range(epochs):\n",
    "    \n",
    "    train_loss = 0.00\n",
    "    val_loss = 0.00\n",
    "    \n",
    "    train_accuracy = Accuracy()\n",
    "    val_accuracy = Accuracy()\n",
    "    \n",
    "\n",
    "    \n",
    "    print(f'Epoch {epoch+1}')\n",
    "\n",
    "    # Training loop\n",
    "    for idx, (inputs, labels) in enumerate(Bar(train_loader)):\n",
    "        model.train()\n",
    "        inputs, labels = inputs.to(device), labels.to(device)\n",
    "        optimizer.zero_grad() \n",
    "        outputs = model(inputs) \n",
    "        loss = criterion(outputs, labels)\n",
    "        loss.backward() \n",
    "        optimizer.step() \n",
    "        train_loss += loss.item()\n",
    "        train_accuracy.update((nn.functional.softmax(outputs, dim=1), labels))\n",
    "      \n",
    "    train_acc = train_accuracy.compute()\n",
    "    train_accuracy_list.append(train_acc) \n",
    "    print(f\"Train Accuracy: {train_acc}\")\n",
    "    train_loss /= len(train_loader)\n",
    "    train_loss_formated = \"{:.4f}\".format(train_loss)\n",
    "    train_loss_list.append(train_loss_formated)\n",
    "    \n",
    "    # Validation loop\n",
    "    with torch.no_grad():\n",
    "        for inputs, labels in val_loader:\n",
    "            model.eval()           \n",
    "            inputs, labels = inputs.to(device), labels.to(device)\n",
    "            outputs = model(inputs)\n",
    "            loss = criterion(outputs, labels)\n",
    "            val_loss += loss.item()\n",
    "            val_accuracy.update((nn.functional.softmax(outputs, dim=1), labels))\n",
    "            \n",
    "    val_acc = val_accuracy.compute()\n",
    "    val_accuracy_list.append(val_acc)\n",
    "    print(f\"Val Accuracy: {val_acc}\")\n",
    "    val_loss /= len(val_loader)\n",
    "    val_loss_formated = \"{:.4f}\".format(val_loss)\n",
    "    val_loss_list.append(val_loss_formated)\n",
    "    print(f'Training Loss: {train_loss_formated}')\n",
    "    print(f\"Validation Loss: {val_loss_formated}\")\n",
    "\n",
    "    # TensorBoard writer \n",
    "    writer.add_scalar('Loss/train', train_loss, epoch+1)\n",
    "    writer.add_scalar('Loss/val', val_loss, epoch+1)\n",
    "    writer.add_scalar('Accuracy/train', train_accuracy.compute(), epoch+1)\n",
    "    writer.add_scalar('Accuracy/val', val_accuracy.compute(), epoch+1)\n",
    "\n",
    "    ## Early Stopping\n",
    "    #early_stopping(val_loss, model)       \n",
    "    #if early_stopping.early_stop:\n",
    "    #    print(\"Early stopping\")\n",
    "    #    break"
   ]
  },
  {
   "cell_type": "code",
   "execution_count": null,
   "metadata": {
    "ExecuteTime": {
     "start_time": "2023-06-12T11:52:36.560Z"
    }
   },
   "outputs": [],
   "source": [
    "results_df = pd.DataFrame()\n",
    "results_df['train_loss'] = train_loss_list\n",
    "results_df['val_loss'] = val_loss_list\n",
    "results_df['train_acc'] = train_accuracy_list\n",
    "results_df['val_acc'] = val_accuracy_list\n",
    "results_df.head(3)"
   ]
  },
  {
   "cell_type": "code",
   "execution_count": 18,
   "metadata": {
    "ExecuteTime": {
     "end_time": "2023-06-12T11:52:14.187440Z",
     "start_time": "2023-06-12T11:52:13.750056Z"
    }
   },
   "outputs": [],
   "source": [
    "import matplotlib.pyplot as plt\n",
    "\n",
    "def plot_accuracy(train_acc, val_acc):\n",
    "    \"\"\"\n",
    "    Plots the accuracy over the course of training.\n",
    "\n",
    "    Args:\n",
    "        train_acc (list): List of training accuracies for each epoch.\n",
    "        val_acc (list): List of validation accuracies for each epoch.\n",
    "    \"\"\"\n",
    "    epochs = len(train_acc)\n",
    "    plt.plot(range(1, epochs + 1), train_acc, label='Train Accuracy')\n",
    "    plt.plot(range(1, epochs + 1), val_acc, label='Validation Accuracy')\n",
    "    plt.xlabel('Epoch')\n",
    "    plt.ylabel('Accuracy')\n",
    "    plt.title('Accuracy over Training')\n",
    "    plt.legend()\n",
    "    plt.show()"
   ]
  },
  {
   "cell_type": "code",
   "execution_count": 21,
   "metadata": {
    "ExecuteTime": {
     "end_time": "2023-06-12T10:22:38.814654Z",
     "start_time": "2023-06-12T10:22:38.589456Z"
    }
   },
   "outputs": [
    {
     "data": {
      "image/png": "[encoded data removed]",
      "text/plain": [
       "<Figure size 640x480 with 1 Axes>"
      ]
     },
     "metadata": {},
     "output_type": "display_data"
    }
   ],
   "source": [
    "plot_accuracy(results_df['train_loss'], results_df['val_loss'])"
   ]
  },
  {
   "cell_type": "code",
   "execution_count": 22,
   "metadata": {
    "ExecuteTime": {
     "end_time": "2023-06-12T10:22:39.132223Z",
     "start_time": "2023-06-12T10:22:39.014700Z"
    }
   },
   "outputs": [
    {
     "data": {
      "image/png": "[encoded data removed]",
      "text/plain": [
       "<Figure size 640x480 with 1 Axes>"
      ]
     },
     "metadata": {},
     "output_type": "display_data"
    }
   ],
   "source": [
    "plot_accuracy(results_df['train_acc'], results_df['val_acc'])"
   ]
  },
  {
   "cell_type": "code",
   "execution_count": 47,
   "metadata": {
    "ExecuteTime": {
     "end_time": "2023-06-11T08:13:31.376492Z",
     "start_time": "2023-06-11T08:13:31.258896Z"
    }
   },
   "outputs": [],
   "source": [
    "#torch.save(model, './content/model_100e_tv.pth')"
   ]
  },
  {
   "cell_type": "code",
   "execution_count": 48,
   "metadata": {
    "ExecuteTime": {
     "end_time": "2023-06-11T08:13:32.167553Z",
     "start_time": "2023-06-11T08:13:32.061035Z"
    }
   },
   "outputs": [],
   "source": [
    "#torch.save(model.state_dict(), f'./content/skinmodel50.pt')"
   ]
  },
  {
   "cell_type": "code",
   "execution_count": 30,
   "metadata": {
    "ExecuteTime": {
     "end_time": "2023-06-11T18:57:56.713371Z",
     "start_time": "2023-06-11T18:57:56.711135Z"
    }
   },
   "outputs": [],
   "source": [
    "# load the last checkpoint with the best model\n",
    "#model.load_state_dict(torch.load('./content/')) "
   ]
  },
  {
   "cell_type": "code",
   "execution_count": null,
   "metadata": {},
   "outputs": [],
   "source": [
    "\n",
    "\n",
    "def evaluate_sample(image, model, label_mapping):\n",
    "    \"\"\"\n",
    "    Evaluates an individual sample and outputs the predicted label.\n",
    "\n",
    "    Args:\n",
    "        image (torch.Tensor): Input image tensor.\n",
    "        model (torch.nn.Module): Trained model.\n",
    "        label_mapping (list): List of class label mappings.\n",
    "\n",
    "    Returns:\n",
    "        str: Predicted label for the input sample.\n",
    "    \"\"\"\n",
    "    model.eval()\n",
    "    with torch.no_grad():\n",
    "        image = image.unsqueeze(0).to(device)\n",
    "        output = model(image)\n",
    "        probabilities = nn.functional.softmax(output, dim=1)\n",
    "        _, predicted = torch.max(probabilities, 1)\n",
    "        predicted_label = label_mapping[predicted.item()]\n",
    "        return predicted_label"
   ]
  },
  {
   "cell_type": "code",
   "execution_count": 33,
   "metadata": {
    "ExecuteTime": {
     "end_time": "2023-06-12T07:00:27.256956Z",
     "start_time": "2023-06-12T07:00:14.026451Z"
    },
    "colab": {
     "base_uri": "https://localhost:8080/",
     "height": 636
    },
    "id": "IIGH8GtgVv8D",
    "outputId": "3b322195-f033-4412-adb8-5f0849fa2455"
   },
   "outputs": [
    {
     "name": "stdout",
     "output_type": "stream",
     "text": [
      "              precision    recall  f1-score   support\n",
      "\n",
      "         mel       0.96      0.91      0.93       123\n",
      "          nv       0.99      1.00      0.99      1081\n",
      "         bcc       0.98      0.95      0.97        66\n",
      "       akiec       0.88      0.98      0.93        46\n",
      "         bkl       0.97      0.97      0.97       146\n",
      "          df       1.00      0.87      0.93        15\n",
      "        vasc       1.00      1.00      1.00        20\n",
      "\n",
      "    accuracy                           0.98      1497\n",
      "   macro avg       0.97      0.95      0.96      1497\n",
      "weighted avg       0.98      0.98      0.98      1497\n",
      "\n",
      "AUC of class mel = 0.9987278257062047\n",
      "AUC of class nv = 0.9993106454137907\n",
      "AUC of class bcc = 0.99995764775639\n",
      "AUC of class akiec = 0.9995954813771613\n",
      "AUC of class bkl = 0.9989252000040559\n",
      "AUC of class df = 0.9999100314889788\n",
      "AUC of class vasc = 1.0\n"
     ]
    },
    {
     "data": {
      "image/png": "[encoded data removed]",
      "text/plain": [
       "<Figure size 640x480 with 2 Axes>"
      ]
     },
     "metadata": {},
     "output_type": "display_data"
    }
   ],
   "source": [
    "num_classes = 7\n",
    "\n",
    "predlist = torch.zeros(0,dtype=torch.long, device='cpu')\n",
    "lbllist = torch.zeros(0,dtype=torch.long, device='cpu')\n",
    "predlistauc = torch.zeros(0,dtype=torch.long, device='cpu')\n",
    "\n",
    "with torch.no_grad():\n",
    "    for i, (inputs, classes) in enumerate(val_loader):\n",
    "        model.eval()\n",
    "        inputs = inputs.to(device)\n",
    "        classes = classes.to(device)\n",
    "        outputs = model(inputs)\n",
    "        _, preds = torch.max(outputs, 1)\n",
    "\n",
    "        # Append batch prediction results\n",
    "        predlist=torch.cat([predlist,preds.view(-1).cpu()])\n",
    "        lbllist=torch.cat([lbllist,classes.view(-1).cpu()])\n",
    "        predlistauc = torch.cat([predlistauc,nn.functional.softmax(outputs, dim=1).cpu()])\n",
    "        \n",
    "predlist = predlist.numpy()\n",
    "lbllist = lbllist.numpy()\n",
    "predlistauc = predlistauc.numpy()\n",
    "\n",
    "# Confusion matrix, classification report and AUC\n",
    "conf_mat=confusion_matrix(lbllist, predlist)\n",
    "target_names = ['mel','nv','bcc','akiec','bkl','df','vasc',]\n",
    "ConfusionMatrixDisplay(conf_mat, display_labels=target_names).plot(values_format=\"d\", cmap='Oranges')\n",
    "print(classification_report(lbllist, predlist, target_names=target_names))\n",
    "lbllist_one_hot = nn.functional.one_hot(torch.tensor([lbllist]), num_classes=num_classes)\n",
    "every_auc = roc_auc_score(lbllist_one_hot.view([predlistauc.shape[0], predlistauc.shape[1]]), \n",
    "                                          predlistauc, multi_class='ovr', average=None)\n",
    "for i, every in enumerate(target_names):\n",
    "    print(f'AUC of class {every} = {every_auc[i]}')"
   ]
  },
  {
   "cell_type": "code",
   "execution_count": 34,
   "metadata": {
    "ExecuteTime": {
     "end_time": "2023-06-12T07:05:34.532985Z",
     "start_time": "2023-06-12T07:04:29.145677Z"
    }
   },
   "outputs": [
    {
     "name": "stdout",
     "output_type": "stream",
     "text": [
      "              precision    recall  f1-score   support\n",
      "\n",
      "         mel       0.96      0.91      0.93       615\n",
      "          nv       0.99      1.00      0.99      5405\n",
      "         bcc       0.98      0.95      0.97       330\n",
      "       akiec       0.88      0.98      0.93       230\n",
      "         bkl       0.97      0.97      0.97       730\n",
      "          df       1.00      0.87      0.93        75\n",
      "        vasc       1.00      1.00      1.00       100\n",
      "\n",
      "    accuracy                           0.98      7485\n",
      "   macro avg       0.97      0.95      0.96      7485\n",
      "weighted avg       0.98      0.98      0.98      7485\n",
      "\n",
      "AUC of class mel = 0.9987278257062047\n",
      "AUC of class nv = 0.9993106454137904\n",
      "AUC of class bcc = 0.9999576477563898\n",
      "AUC of class akiec = 0.9995954813771613\n",
      "AUC of class bkl = 0.9989252000040558\n",
      "AUC of class df = 0.999910031488979\n",
      "AUC of class vasc = 1.0\n"
     ]
    },
    {
     "data": {
      "image/png": "[encoded data removed]",
      "text/plain": [
       "<Figure size 640x480 with 2 Axes>"
      ]
     },
     "metadata": {},
     "output_type": "display_data"
    }
   ],
   "source": [
    "num_classes = 7\n",
    "\n",
    "predlist=torch.zeros(0,dtype=torch.long, device='cpu')\n",
    "lbllist=torch.zeros(0,dtype=torch.long, device='cpu')\n",
    "predlistauc = torch.zeros(0,dtype=torch.long, device='cpu')\n",
    "for n in range(5):\n",
    "    with torch.no_grad():\n",
    "        for i, (inputs, classes) in enumerate(test_loader):\n",
    "            model.eval()\n",
    "            inputs = inputs.to(device)\n",
    "            classes = classes.to(device)\n",
    "            outputs = model(inputs)\n",
    "            _, preds = torch.max(outputs, 1)\n",
    "\n",
    "            # Append batch prediction results\n",
    "            predlist=torch.cat([predlist,preds.view(-1).cpu()])\n",
    "            lbllist=torch.cat([lbllist,classes.view(-1).cpu()])\n",
    "            predlistauc = torch.cat([predlistauc,nn.functional.softmax(outputs, dim=1).cpu()])\n",
    "            \n",
    "predlist = predlist.numpy()\n",
    "lbllist = lbllist.numpy()\n",
    "predlistauc = predlistauc.numpy() \n",
    "\n",
    "# Confusion matrix, classification report and AUC\n",
    "conf_mat=confusion_matrix(lbllist, predlist)\n",
    "target_names = ['mel','nv','bcc','akiec','bkl','df','vasc',]\n",
    "ConfusionMatrixDisplay(conf_mat, display_labels=target_names).plot(values_format=\"d\", cmap='Blues')\n",
    "print(classification_report(lbllist, predlist, target_names=target_names))\n",
    "lbllist_one_hot = nn.functional.one_hot(torch.tensor([lbllist]), num_classes=num_classes)\n",
    "every_auc = roc_auc_score(lbllist_one_hot.view([predlistauc.shape[0], predlistauc.shape[1]]), \n",
    "                                          predlistauc, multi_class='ovr', average=None)\n",
    "for i, every in enumerate(target_names):\n",
    "    print(f'AUC of class {every} = {every_auc[i]}')"
   ]
  },
  {
   "cell_type": "code",
   "execution_count": null,
   "metadata": {
    "id": "6pC898gplY-m"
   },
   "outputs": [],
   "source": []
  }
 ],
 "metadata": {
  "accelerator": "GPU",
  "colab": {
   "collapsed_sections": [],
   "name": "Skin_classifier.ipynb",
   "provenance": []
  },
  "kernelspec": {
   "display_name": "Python 3 (ipykernel)",
   "language": "python",
   "name": "python3"
  },
  "language_info": {
   "codemirror_mode": {
    "name": "ipython",
    "version": 3
   },
   "file_extension": ".py",
   "mimetype": "text/x-python",
   "name": "python",
   "nbconvert_exporter": "python",
   "pygments_lexer": "ipython3",
   "version": "3.11.3"
  },
  "toc": {
   "base_numbering": 1,
   "nav_menu": {},
   "number_sections": true,
   "sideBar": true,
   "skip_h1_title": false,
   "title_cell": "Table of Contents",
   "title_sidebar": "Contents",
   "toc_cell": false,
   "toc_position": {},
   "toc_section_display": true,
   "toc_window_display": false
  },
  "widgets": {
   "application/vnd.jupyter.widget-state+json": {
    "1acf94a172b34beb97719742f7a340ab": {
     "model_module": "@jupyter-widgets/base",
     "model_name": "LayoutModel",
     "state": {
      "_model_module": "@jupyter-widgets/base",
      "_model_module_version": "1.2.0",
      "_model_name": "LayoutModel",
      "_view_count": null,
      "_view_module": "@jupyter-widgets/base",
      "_view_module_version": "1.2.0",
      "_view_name": "LayoutView",
      "align_content": null,
      "align_items": null,
      "align_self": null,
      "border": null,
      "bottom": null,
      "display": null,
      "flex": null,
      "flex_flow": null,
      "grid_area": null,
      "grid_auto_columns": null,
      "grid_auto_flow": null,
      "grid_auto_rows": null,
      "grid_column": null,
      "grid_gap": null,
      "grid_row": null,
      "grid_template_areas": null,
      "grid_template_columns": null,
      "grid_template_rows": null,
      "height": null,
      "justify_content": null,
      "justify_items": null,
      "left": null,
      "margin": null,
      "max_height": null,
      "max_width": null,
      "min_height": null,
      "min_width": null,
      "object_fit": null,
      "object_position": null,
      "order": null,
      "overflow": null,
      "overflow_x": null,
      "overflow_y": null,
      "padding": null,
      "right": null,
      "top": null,
      "visibility": null,
      "width": null
     }
    },
    "2c91fd89d7094f8ea80eab7135278b66": {
     "model_module": "@jupyter-widgets/controls",
     "model_name": "HTMLModel",
     "state": {
      "_dom_classes": [],
      "_model_module": "@jupyter-widgets/controls",
      "_model_module_version": "1.5.0",
      "_model_name": "HTMLModel",
      "_view_count": null,
      "_view_module": "@jupyter-widgets/controls",
      "_view_module_version": "1.5.0",
      "_view_name": "HTMLView",
      "description": "",
      "description_tooltip": null,
      "layout": "IPY_MODEL_cf56e07ca31e4aaead598e4c76ed59c0",
      "placeholder": "​",
      "style": "IPY_MODEL_518ad6c229e24a889f18f5dc571b49a1",
      "value": " 97.8M/97.8M [00:08&lt;00:00, 12.8MB/s]"
     }
    },
    "518ad6c229e24a889f18f5dc571b49a1": {
     "model_module": "@jupyter-widgets/controls",
     "model_name": "DescriptionStyleModel",
     "state": {
      "_model_module": "@jupyter-widgets/controls",
      "_model_module_version": "1.5.0",
      "_model_name": "DescriptionStyleModel",
      "_view_count": null,
      "_view_module": "@jupyter-widgets/base",
      "_view_module_version": "1.2.0",
      "_view_name": "StyleView",
      "description_width": ""
     }
    },
    "581a27dd91bc472aa20bdbb2fbe794fe": {
     "model_module": "@jupyter-widgets/controls",
     "model_name": "HBoxModel",
     "state": {
      "_dom_classes": [],
      "_model_module": "@jupyter-widgets/controls",
      "_model_module_version": "1.5.0",
      "_model_name": "HBoxModel",
      "_view_count": null,
      "_view_module": "@jupyter-widgets/controls",
      "_view_module_version": "1.5.0",
      "_view_name": "HBoxView",
      "box_style": "",
      "children": [
       "IPY_MODEL_bfd31272c80a423689c64c1c2e188e5f",
       "IPY_MODEL_2c91fd89d7094f8ea80eab7135278b66"
      ],
      "layout": "IPY_MODEL_7cb55a1237a14f27ab76d29213929c6b"
     }
    },
    "67a4bc927924426986a014b522a2d3ac": {
     "model_module": "@jupyter-widgets/controls",
     "model_name": "ProgressStyleModel",
     "state": {
      "_model_module": "@jupyter-widgets/controls",
      "_model_module_version": "1.5.0",
      "_model_name": "ProgressStyleModel",
      "_view_count": null,
      "_view_module": "@jupyter-widgets/base",
      "_view_module_version": "1.2.0",
      "_view_name": "StyleView",
      "bar_color": null,
      "description_width": "initial"
     }
    },
    "7cb55a1237a14f27ab76d29213929c6b": {
     "model_module": "@jupyter-widgets/base",
     "model_name": "LayoutModel",
     "state": {
      "_model_module": "@jupyter-widgets/base",
      "_model_module_version": "1.2.0",
      "_model_name": "LayoutModel",
      "_view_count": null,
      "_view_module": "@jupyter-widgets/base",
      "_view_module_version": "1.2.0",
      "_view_name": "LayoutView",
      "align_content": null,
      "align_items": null,
      "align_self": null,
      "border": null,
      "bottom": null,
      "display": null,
      "flex": null,
      "flex_flow": null,
      "grid_area": null,
      "grid_auto_columns": null,
      "grid_auto_flow": null,
      "grid_auto_rows": null,
      "grid_column": null,
      "grid_gap": null,
      "grid_row": null,
      "grid_template_areas": null,
      "grid_template_columns": null,
      "grid_template_rows": null,
      "height": null,
      "justify_content": null,
      "justify_items": null,
      "left": null,
      "margin": null,
      "max_height": null,
      "max_width": null,
      "min_height": null,
      "min_width": null,
      "object_fit": null,
      "object_position": null,
      "order": null,
      "overflow": null,
      "overflow_x": null,
      "overflow_y": null,
      "padding": null,
      "right": null,
      "top": null,
      "visibility": null,
      "width": null
     }
    },
    "bfd31272c80a423689c64c1c2e188e5f": {
     "model_module": "@jupyter-widgets/controls",
     "model_name": "FloatProgressModel",
     "state": {
      "_dom_classes": [],
      "_model_module": "@jupyter-widgets/controls",
      "_model_module_version": "1.5.0",
      "_model_name": "FloatProgressModel",
      "_view_count": null,
      "_view_module": "@jupyter-widgets/controls",
      "_view_module_version": "1.5.0",
      "_view_name": "ProgressView",
      "bar_style": "success",
      "description": "100%",
      "description_tooltip": null,
      "layout": "IPY_MODEL_1acf94a172b34beb97719742f7a340ab",
      "max": 102530333,
      "min": 0,
      "orientation": "horizontal",
      "style": "IPY_MODEL_67a4bc927924426986a014b522a2d3ac",
      "value": 102530333
     }
    },
    "cf56e07ca31e4aaead598e4c76ed59c0": {
     "model_module": "@jupyter-widgets/base",
     "model_name": "LayoutModel",
     "state": {
      "_model_module": "@jupyter-widgets/base",
      "_model_module_version": "1.2.0",
      "_model_name": "LayoutModel",
      "_view_count": null,
      "_view_module": "@jupyter-widgets/base",
      "_view_module_version": "1.2.0",
      "_view_name": "LayoutView",
      "align_content": null,
      "align_items": null,
      "align_self": null,
      "border": null,
      "bottom": null,
      "display": null,
      "flex": null,
      "flex_flow": null,
      "grid_area": null,
      "grid_auto_columns": null,
      "grid_auto_flow": null,
      "grid_auto_rows": null,
      "grid_column": null,
      "grid_gap": null,
      "grid_row": null,
      "grid_template_areas": null,
      "grid_template_columns": null,
      "grid_template_rows": null,
      "height": null,
      "justify_content": null,
      "justify_items": null,
      "left": null,
      "margin": null,
      "max_height": null,
      "max_width": null,
      "min_height": null,
      "min_width": null,
      "object_fit": null,
      "object_position": null,
      "order": null,
      "overflow": null,
      "overflow_x": null,
      "overflow_y": null,
      "padding": null,
      "right": null,
      "top": null,
      "visibility": null,
      "width": null
     }
    }
   }
  }
 },
 "nbformat": 4,
 "nbformat_minor": 4
}
